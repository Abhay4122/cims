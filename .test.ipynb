{
 "cells": [
  {
   "cell_type": "code",
   "execution_count": 1,
   "metadata": {},
   "outputs": [],
   "source": [
    "tmp = 0\n",
    "num = 1\n",
    "final = None"
   ]
  },
  {
   "cell_type": "code",
   "execution_count": null,
   "metadata": {},
   "outputs": [],
   "source": [
    "for i in range(0, 20000):\n",
    "    final = tmp + num\n",
    "    tmp = num\n",
    "    num = final\n",
    "    print (final)"
   ]
  },
  {
   "cell_type": "code",
   "execution_count": null,
   "metadata": {},
   "outputs": [],
   "source": [
    "for i in range(1, 100000):\n",
    "    if i > 1:\n",
    "        for j in range(2, i):\n",
    "            if i % j == 0:\n",
    "                break\n",
    "        else:\n",
    "            print (i)"
   ]
  },
  {
   "cell_type": "code",
   "execution_count": 27,
   "metadata": {},
   "outputs": [
    {
     "name": "stdout",
     "output_type": "stream",
     "text": [
      "<filter object at 0x000000000B50EB50>\n"
     ]
    }
   ],
   "source": [
    "import numpy\n",
    "import math\n",
    "def prime2(upto=100000):\n",
    "    return filter(lambda num: numpy.array([num % factor for factor in range(2,1+int(math.sqrt(num)))]).all(), range(2,upto+1))\n",
    "\n",
    "print (prime2())"
   ]
  }
 ],
 "metadata": {
  "interpreter": {
   "hash": "2ffa1f46e307699b7ffbcd5562a28873a900ac8bb401d021538fefc997242bf7"
  },
  "kernelspec": {
   "display_name": "Python 3.8.8 64-bit ('cims': venv)",
   "language": "python",
   "name": "python3"
  },
  "language_info": {
   "codemirror_mode": {
    "name": "ipython",
    "version": 3
   },
   "file_extension": ".py",
   "mimetype": "text/x-python",
   "name": "python",
   "nbconvert_exporter": "python",
   "pygments_lexer": "ipython3",
   "version": "3.8.8"
  },
  "orig_nbformat": 4
 },
 "nbformat": 4,
 "nbformat_minor": 2
}
